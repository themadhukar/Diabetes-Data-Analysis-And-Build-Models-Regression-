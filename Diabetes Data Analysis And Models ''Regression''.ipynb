{
 "cells": [
  {
   "cell_type": "code",
   "execution_count": 40,
   "metadata": {},
   "outputs": [],
   "source": [
    "## 1.Read the data\n",
    "## 2.Drop all unnessasery columns[NA%>50,Unique,Same]\n",
    "## 3.Train test split\n",
    "## 4.Fill the issing valuue\n",
    "## 6.Scale the continous\n",
    "## 7.Buil the model\n",
    "## 8.Test"
   ]
  },
  {
   "cell_type": "code",
   "execution_count": 41,
   "metadata": {},
   "outputs": [],
   "source": [
    "import pandas as pd\n",
    "import numpy as np\n",
    "import matplotlib.pyplot as plt\n",
    "import seaborn as sns\n",
    "from sklearn.linear_model import LogisticRegression\n",
    "import sklearn.metrics as metrics\n",
    "from sklearn.metrics import r2_score,mean_squared_error,mean_absolute_error\n",
    "from sklearn.tree import DecisionTreeRegressor\n",
    "from sklearn.tree import DecisionTreeRegressor\n",
    "from sklearn.ensemble import RandomForestRegressor\n",
    "from sklearn.ensemble import AdaBoostRegressor\n",
    "from sklearn.naive_bayes import GaussianNB\n",
    "from sklearn.ensemble import GradientBoostingRegressor\n",
    "from sklearn.ensemble import RandomForestRegressor\n",
    "from sklearn.neighbors import KNeighborsRegressor\n",
    "from sklearn.model_selection import GridSearchCV,RandomizedSearchCV\n",
    "from scipy.stats import randint\n",
    "import warnings\n",
    "warnings.filterwarnings('ignore')"
   ]
  },
  {
   "cell_type": "code",
   "execution_count": 42,
   "metadata": {
    "scrolled": false
   },
   "outputs": [
    {
     "data": {
      "text/html": [
       "<div>\n",
       "<style scoped>\n",
       "    .dataframe tbody tr th:only-of-type {\n",
       "        vertical-align: middle;\n",
       "    }\n",
       "\n",
       "    .dataframe tbody tr th {\n",
       "        vertical-align: top;\n",
       "    }\n",
       "\n",
       "    .dataframe thead th {\n",
       "        text-align: right;\n",
       "    }\n",
       "</style>\n",
       "<table border=\"1\" class=\"dataframe\">\n",
       "  <thead>\n",
       "    <tr style=\"text-align: right;\">\n",
       "      <th></th>\n",
       "      <th>Pregnancies</th>\n",
       "      <th>Glucose</th>\n",
       "      <th>BloodPressure</th>\n",
       "      <th>SkinThickness</th>\n",
       "      <th>Insulin</th>\n",
       "      <th>BMI</th>\n",
       "      <th>DiabetesPedigreeFunction</th>\n",
       "      <th>Age</th>\n",
       "      <th>Outcome</th>\n",
       "    </tr>\n",
       "  </thead>\n",
       "  <tbody>\n",
       "    <tr>\n",
       "      <th>0</th>\n",
       "      <td>6</td>\n",
       "      <td>148</td>\n",
       "      <td>72</td>\n",
       "      <td>35</td>\n",
       "      <td>0</td>\n",
       "      <td>33.6</td>\n",
       "      <td>0.627</td>\n",
       "      <td>50</td>\n",
       "      <td>1</td>\n",
       "    </tr>\n",
       "    <tr>\n",
       "      <th>1</th>\n",
       "      <td>1</td>\n",
       "      <td>85</td>\n",
       "      <td>66</td>\n",
       "      <td>29</td>\n",
       "      <td>0</td>\n",
       "      <td>26.6</td>\n",
       "      <td>0.351</td>\n",
       "      <td>31</td>\n",
       "      <td>0</td>\n",
       "    </tr>\n",
       "    <tr>\n",
       "      <th>2</th>\n",
       "      <td>8</td>\n",
       "      <td>183</td>\n",
       "      <td>64</td>\n",
       "      <td>0</td>\n",
       "      <td>0</td>\n",
       "      <td>23.3</td>\n",
       "      <td>0.672</td>\n",
       "      <td>32</td>\n",
       "      <td>1</td>\n",
       "    </tr>\n",
       "    <tr>\n",
       "      <th>3</th>\n",
       "      <td>1</td>\n",
       "      <td>89</td>\n",
       "      <td>66</td>\n",
       "      <td>23</td>\n",
       "      <td>94</td>\n",
       "      <td>28.1</td>\n",
       "      <td>0.167</td>\n",
       "      <td>21</td>\n",
       "      <td>0</td>\n",
       "    </tr>\n",
       "    <tr>\n",
       "      <th>4</th>\n",
       "      <td>0</td>\n",
       "      <td>137</td>\n",
       "      <td>40</td>\n",
       "      <td>35</td>\n",
       "      <td>168</td>\n",
       "      <td>43.1</td>\n",
       "      <td>2.288</td>\n",
       "      <td>33</td>\n",
       "      <td>1</td>\n",
       "    </tr>\n",
       "  </tbody>\n",
       "</table>\n",
       "</div>"
      ],
      "text/plain": [
       "   Pregnancies  Glucose  BloodPressure  SkinThickness  Insulin   BMI  \\\n",
       "0            6      148             72             35        0  33.6   \n",
       "1            1       85             66             29        0  26.6   \n",
       "2            8      183             64              0        0  23.3   \n",
       "3            1       89             66             23       94  28.1   \n",
       "4            0      137             40             35      168  43.1   \n",
       "\n",
       "   DiabetesPedigreeFunction  Age  Outcome  \n",
       "0                     0.627   50        1  \n",
       "1                     0.351   31        0  \n",
       "2                     0.672   32        1  \n",
       "3                     0.167   21        0  \n",
       "4                     2.288   33        1  "
      ]
     },
     "execution_count": 42,
     "metadata": {},
     "output_type": "execute_result"
    }
   ],
   "source": [
    "df=pd.read_csv('diabetes.csv')\n",
    "df.head()"
   ]
  },
  {
   "cell_type": "code",
   "execution_count": 75,
   "metadata": {},
   "outputs": [
    {
     "data": {
      "image/png": "[encoded data removed]",
      "text/plain": [
       "<Figure size 1440x720 with 12 Axes>"
      ]
     },
     "metadata": {
      "needs_background": "light"
     },
     "output_type": "display_data"
    }
   ],
   "source": [
    "# create boxplot checking for outliers\n",
    "fig,ax=plt.subplots(ncols=6,nrows=2,figsize=(20,10))\n",
    "index=0\n",
    "ax=ax.flatten()\n",
    "\n",
    "for col,value in df.items():\n",
    "    sns.boxplot(y=col,data=df,ax=ax[index])\n",
    "    index+=1\n",
    "plt.tight_layout(pad=0.5,w_pad=0.7,h_pad=5.0)        "
   ]
  },
  {
   "cell_type": "code",
   "execution_count": 43,
   "metadata": {},
   "outputs": [],
   "source": [
    "y=df['Outcome']\n",
    "df.drop(['Outcome'],axis=1,inplace=True)"
   ]
  },
  {
   "cell_type": "markdown",
   "metadata": {},
   "source": [
    "# Train Test Split"
   ]
  },
  {
   "cell_type": "code",
   "execution_count": 44,
   "metadata": {},
   "outputs": [],
   "source": [
    "from sklearn.model_selection import train_test_split\n",
    "\n",
    "X_train,X_test,y_train,y_test=train_test_split(df,y,test_size=0.2,random_state=43)"
   ]
  },
  {
   "cell_type": "markdown",
   "metadata": {},
   "source": [
    "# Logistic Regression"
   ]
  },
  {
   "cell_type": "code",
   "execution_count": 45,
   "metadata": {},
   "outputs": [
    {
     "name": "stdout",
     "output_type": "stream",
     "text": [
      "Train score 0.7850162866449512\n",
      "Test Score 0.7857142857142857\n"
     ]
    }
   ],
   "source": [
    "logreg=LogisticRegression()\n",
    "logreg.fit(X_train,y_train)\n",
    "pred=logreg.predict(X_test)\n",
    "pred\n",
    "print('Train score',logreg.score(X_train,y_train))\n",
    "print('Test Score',logreg.score(X_test,y_test))\n"
   ]
  },
  {
   "cell_type": "markdown",
   "metadata": {},
   "source": [
    "## Checking Efficiency Of Model"
   ]
  },
  {
   "cell_type": "code",
   "execution_count": 46,
   "metadata": {},
   "outputs": [
    {
     "name": "stdout",
     "output_type": "stream",
     "text": [
      "Mean Absolute Error 0.21428571428571427\n",
      "Mean Squared Error 0.21428571428571427\n",
      "Root Mean Squared Error 0.4629100498862757\n",
      "R Square Score 0.05888888888888866\n"
     ]
    }
   ],
   "source": [
    "print('Mean Absolute Error',metrics.mean_absolute_error(y_test,pred))\n",
    "print('Mean Squared Error',metrics.mean_squared_error(y_test,pred))\n",
    "print('Root Mean Squared Error',np.sqrt(metrics.mean_squared_error(y_test,pred)))\n",
    "print('R Square Score',metrics.r2_score(y_test,pred))"
   ]
  },
  {
   "cell_type": "markdown",
   "metadata": {},
   "source": [
    "# Decision Tree Regressor"
   ]
  },
  {
   "cell_type": "code",
   "execution_count": 47,
   "metadata": {},
   "outputs": [
    {
     "name": "stdout",
     "output_type": "stream",
     "text": [
      "Train Score 1.0\n",
      "Test Score -0.34037037037037066\n"
     ]
    }
   ],
   "source": [
    "dt=DecisionTreeRegressor()\n",
    "dt.fit(X_train,y_train)\n",
    "pred=dt.predict(X_train)\n",
    "print('Train Score',dt.score(X_train,y_train))\n",
    "print('Test Score',dt.score(X_test,y_test))"
   ]
  },
  {
   "cell_type": "markdown",
   "metadata": {},
   "source": [
    "# Hyperparameter Tunnig DS Tree"
   ]
  },
  {
   "cell_type": "code",
   "execution_count": 49,
   "metadata": {},
   "outputs": [
    {
     "data": {
      "text/plain": [
       "RandomizedSearchCV(cv=5, estimator=DecisionTreeRegressor(),\n",
       "                   param_distributions={'criterion': ['gini', 'mse'],\n",
       "                                        'max_depth': [3, None],\n",
       "                                        'min_samples_leaf': <scipy.stats._distn_infrastructure.rv_frozen object at 0x0000023DB69798B0>})"
      ]
     },
     "execution_count": 49,
     "metadata": {},
     "output_type": "execute_result"
    }
   ],
   "source": [
    "ds_tree=DecisionTreeRegressor()\n",
    "\n",
    "param_dist={\"max_depth\":[3,None],\n",
    "            \"min_samples_leaf\": randint(1,9),\n",
    "            \"criterion\":[\"gini\",\"mse\"]\n",
    "           }\n",
    "rscv=RandomizedSearchCV(ds_tree,param_distributions=param_dist,cv=5)\n",
    "rscv.fit(X_train,y_train)"
   ]
  },
  {
   "cell_type": "code",
   "execution_count": 50,
   "metadata": {},
   "outputs": [
    {
     "name": "stdout",
     "output_type": "stream",
     "text": [
      "{'criterion': 'mse', 'max_depth': 3, 'min_samples_leaf': 8}\n",
      "DecisionTreeRegressor(max_depth=3, min_samples_leaf=8)\n",
      "0.1765046611619031\n"
     ]
    }
   ],
   "source": [
    "print(rscv.best_params_)\n",
    "print(rscv.best_estimator_)\n",
    "print(rscv.best_score_)"
   ]
  },
  {
   "cell_type": "markdown",
   "metadata": {},
   "source": [
    "# Random Forest Regerssor"
   ]
  },
  {
   "cell_type": "code",
   "execution_count": 51,
   "metadata": {},
   "outputs": [
    {
     "name": "stdout",
     "output_type": "stream",
     "text": [
      "Train score 0.8994711285046729\n",
      "Test Score 0.2669058148148147\n"
     ]
    }
   ],
   "source": [
    "rf=RandomForestRegressor()\n",
    "rf.fit(X_train,y_train)\n",
    "pred=rf.predict(X_test)\n",
    "print('Train score',rf.score(X_train,y_train))\n",
    "print('Test Score',rf.score(X_test,y_test))\n"
   ]
  },
  {
   "cell_type": "code",
   "execution_count": 52,
   "metadata": {},
   "outputs": [
    {
     "name": "stdout",
     "output_type": "stream",
     "text": [
      "Mean Absolute Error 0.3105844155844156\n",
      "Mean Squared Error 0.16692142857142858\n",
      "Root Mean Squared Error 0.4085601896556107\n",
      "R Square Score 0.2669058148148147\n"
     ]
    }
   ],
   "source": [
    "print('Mean Absolute Error',metrics.mean_absolute_error(y_test,pred))\n",
    "print('Mean Squared Error',metrics.mean_squared_error(y_test,pred))\n",
    "print('Root Mean Squared Error',np.sqrt(metrics.mean_squared_error(y_test,pred)))\n",
    "print('R Square Score',metrics.r2_score(y_test,pred))"
   ]
  },
  {
   "cell_type": "markdown",
   "metadata": {},
   "source": [
    "# Hyperparameter Tunning RF Regressor"
   ]
  },
  {
   "cell_type": "code",
   "execution_count": 54,
   "metadata": {},
   "outputs": [
    {
     "name": "stdout",
     "output_type": "stream",
     "text": [
      "Fitting 5 folds for each of 10 candidates, totalling 50 fits\n",
      "[CV 1/5] END max_depth=7, max_features=auto, min_samples_split=9, n_estimators=70; total time=   0.2s\n",
      "[CV 2/5] END max_depth=7, max_features=auto, min_samples_split=9, n_estimators=70; total time=   0.2s\n",
      "[CV 3/5] END max_depth=7, max_features=auto, min_samples_split=9, n_estimators=70; total time=   0.3s\n",
      "[CV 4/5] END max_depth=7, max_features=auto, min_samples_split=9, n_estimators=70; total time=   0.4s\n",
      "[CV 5/5] END max_depth=7, max_features=auto, min_samples_split=9, n_estimators=70; total time=   0.3s\n",
      "[CV 1/5] END max_depth=8, max_features=auto, min_samples_split=9, n_estimators=100; total time=   0.4s\n",
      "[CV 2/5] END max_depth=8, max_features=auto, min_samples_split=9, n_estimators=100; total time=   0.4s\n",
      "[CV 3/5] END max_depth=8, max_features=auto, min_samples_split=9, n_estimators=100; total time=   0.4s\n",
      "[CV 4/5] END max_depth=8, max_features=auto, min_samples_split=9, n_estimators=100; total time=   0.4s\n",
      "[CV 5/5] END max_depth=8, max_features=auto, min_samples_split=9, n_estimators=100; total time=   0.4s\n",
      "[CV 1/5] END max_depth=7, max_features=sqrt, min_samples_split=9, n_estimators=100; total time=   0.2s\n",
      "[CV 2/5] END max_depth=7, max_features=sqrt, min_samples_split=9, n_estimators=100; total time=   0.2s\n",
      "[CV 3/5] END max_depth=7, max_features=sqrt, min_samples_split=9, n_estimators=100; total time=   0.2s\n",
      "[CV 4/5] END max_depth=7, max_features=sqrt, min_samples_split=9, n_estimators=100; total time=   0.2s\n",
      "[CV 5/5] END max_depth=7, max_features=sqrt, min_samples_split=9, n_estimators=100; total time=   0.2s\n",
      "[CV 1/5] END max_depth=10, max_features=auto, min_samples_split=4, n_estimators=70; total time=   0.2s\n",
      "[CV 2/5] END max_depth=10, max_features=auto, min_samples_split=4, n_estimators=70; total time=   0.2s\n",
      "[CV 3/5] END max_depth=10, max_features=auto, min_samples_split=4, n_estimators=70; total time=   0.2s\n",
      "[CV 4/5] END max_depth=10, max_features=auto, min_samples_split=4, n_estimators=70; total time=   0.2s\n",
      "[CV 5/5] END max_depth=10, max_features=auto, min_samples_split=4, n_estimators=70; total time=   0.2s\n",
      "[CV 1/5] END max_depth=7, max_features=sqrt, min_samples_split=4, n_estimators=50; total time=   0.1s\n",
      "[CV 2/5] END max_depth=7, max_features=sqrt, min_samples_split=4, n_estimators=50; total time=   0.1s\n",
      "[CV 3/5] END max_depth=7, max_features=sqrt, min_samples_split=4, n_estimators=50; total time=   0.4s\n",
      "[CV 4/5] END max_depth=7, max_features=sqrt, min_samples_split=4, n_estimators=50; total time=   0.3s\n",
      "[CV 5/5] END max_depth=7, max_features=sqrt, min_samples_split=4, n_estimators=50; total time=   0.1s\n",
      "[CV 1/5] END max_depth=9, max_features=auto, min_samples_split=9, n_estimators=60; total time=   0.2s\n",
      "[CV 2/5] END max_depth=9, max_features=auto, min_samples_split=9, n_estimators=60; total time=   0.2s\n",
      "[CV 3/5] END max_depth=9, max_features=auto, min_samples_split=9, n_estimators=60; total time=   0.2s\n",
      "[CV 4/5] END max_depth=9, max_features=auto, min_samples_split=9, n_estimators=60; total time=   0.2s\n",
      "[CV 5/5] END max_depth=9, max_features=auto, min_samples_split=9, n_estimators=60; total time=   0.2s\n",
      "[CV 1/5] END max_depth=9, max_features=log2, min_samples_split=9, n_estimators=60; total time=   0.1s\n",
      "[CV 2/5] END max_depth=9, max_features=log2, min_samples_split=9, n_estimators=60; total time=   0.1s\n",
      "[CV 3/5] END max_depth=9, max_features=log2, min_samples_split=9, n_estimators=60; total time=   0.1s\n",
      "[CV 4/5] END max_depth=9, max_features=log2, min_samples_split=9, n_estimators=60; total time=   0.1s\n",
      "[CV 5/5] END max_depth=9, max_features=log2, min_samples_split=9, n_estimators=60; total time=   0.1s\n",
      "[CV 1/5] END max_depth=8, max_features=log2, min_samples_split=7, n_estimators=50; total time=   0.1s\n",
      "[CV 2/5] END max_depth=8, max_features=log2, min_samples_split=7, n_estimators=50; total time=   0.1s\n",
      "[CV 3/5] END max_depth=8, max_features=log2, min_samples_split=7, n_estimators=50; total time=   0.1s\n",
      "[CV 4/5] END max_depth=8, max_features=log2, min_samples_split=7, n_estimators=50; total time=   0.1s\n",
      "[CV 5/5] END max_depth=8, max_features=log2, min_samples_split=7, n_estimators=50; total time=   0.1s\n",
      "[CV 1/5] END max_depth=10, max_features=auto, min_samples_split=9, n_estimators=50; total time=   0.3s\n",
      "[CV 2/5] END max_depth=10, max_features=auto, min_samples_split=9, n_estimators=50; total time=   0.2s\n",
      "[CV 3/5] END max_depth=10, max_features=auto, min_samples_split=9, n_estimators=50; total time=   0.1s\n",
      "[CV 4/5] END max_depth=10, max_features=auto, min_samples_split=9, n_estimators=50; total time=   0.2s\n",
      "[CV 5/5] END max_depth=10, max_features=auto, min_samples_split=9, n_estimators=50; total time=   0.1s\n",
      "[CV 1/5] END max_depth=8, max_features=auto, min_samples_split=7, n_estimators=70; total time=   0.2s\n",
      "[CV 2/5] END max_depth=8, max_features=auto, min_samples_split=7, n_estimators=70; total time=   0.2s\n",
      "[CV 3/5] END max_depth=8, max_features=auto, min_samples_split=7, n_estimators=70; total time=   0.3s\n",
      "[CV 4/5] END max_depth=8, max_features=auto, min_samples_split=7, n_estimators=70; total time=   0.3s\n",
      "[CV 5/5] END max_depth=8, max_features=auto, min_samples_split=7, n_estimators=70; total time=   0.3s\n"
     ]
    }
   ],
   "source": [
    "rf=RandomForestRegressor(random_state=42)\n",
    "param_dict={\n",
    "            'n_estimators':[50,60,70,100],\n",
    "            'min_samples_split':[4,7,9],\n",
    "            'max_depth':[7,8,9,10],\n",
    "            'max_features':['auto','sqrt','log2']\n",
    "}\n",
    "rdsc=RandomizedSearchCV(rf,param_distributions=param_dict,cv=5,verbose=5)\n",
    "rdsc.fit(X_train,y_train)\n",
    "pred=rdsc.predict(X_test)"
   ]
  },
  {
   "cell_type": "code",
   "execution_count": 55,
   "metadata": {},
   "outputs": [
    {
     "name": "stdout",
     "output_type": "stream",
     "text": [
      "{'n_estimators': 60, 'min_samples_split': 9, 'max_features': 'log2', 'max_depth': 9}\n",
      "RandomForestRegressor(max_depth=9, max_features='log2', min_samples_split=9,\n",
      "                      n_estimators=60, random_state=42)\n",
      "0.30149068417126534\n"
     ]
    }
   ],
   "source": [
    "print(rdsc.best_params_)\n",
    "print(rdsc.best_estimator_)\n",
    "print(rdsc.best_score_)"
   ]
  },
  {
   "cell_type": "markdown",
   "metadata": {},
   "source": [
    "# 5. Gradiant Boost Regressor"
   ]
  },
  {
   "cell_type": "code",
   "execution_count": 56,
   "metadata": {},
   "outputs": [
    {
     "name": "stdout",
     "output_type": "stream",
     "text": [
      "Train Score 0.6899302983604945\n",
      "Test Score 0.21905275173210115\n"
     ]
    }
   ],
   "source": [
    "gbc=GradientBoostingRegressor()\n",
    "gbc.fit(X_train,y_train)\n",
    "pred=gbc.predict(X_test)\n",
    "print('Train Score',gbc.score(X_train,y_train))\n",
    "print('Test Score',gbc.score(X_test,y_test))"
   ]
  },
  {
   "cell_type": "code",
   "execution_count": 57,
   "metadata": {},
   "outputs": [
    {
     "name": "stdout",
     "output_type": "stream",
     "text": [
      "Mean Absolute Error 0.3288204448514588\n",
      "Mean Squared Error 0.17781730227047787\n",
      "Root Mean Squared Error 0.421683889033572\n",
      "R Square Score 0.21905275173210115\n"
     ]
    }
   ],
   "source": [
    "print('Mean Absolute Error',metrics.mean_absolute_error(y_test,pred))\n",
    "print('Mean Squared Error',metrics.mean_squared_error(y_test,pred))\n",
    "print('Root Mean Squared Error',np.sqrt(metrics.mean_squared_error(y_test,pred)))\n",
    "print('R Square Score',metrics.r2_score(y_test,pred))"
   ]
  },
  {
   "cell_type": "markdown",
   "metadata": {},
   "source": [
    "# 6. XGBoost Regressor\n",
    "\n"
   ]
  },
  {
   "cell_type": "code",
   "execution_count": 58,
   "metadata": {},
   "outputs": [
    {
     "name": "stdout",
     "output_type": "stream",
     "text": [
      "Train Score 0.9995887182793338\n",
      "Test Score 0.16098106930497424\n"
     ]
    }
   ],
   "source": [
    "from xgboost import XGBRegressor\n",
    "\n",
    "xgb=XGBRegressor()\n",
    "xgb.fit(X_train,y_train)\n",
    "pred=xgb.predict(X_test)\n",
    "print('Train Score',xgb.score(X_train,y_train))\n",
    "print('Test Score',xgb.score(X_test,y_test))"
   ]
  },
  {
   "cell_type": "code",
   "execution_count": 59,
   "metadata": {},
   "outputs": [
    {
     "name": "stdout",
     "output_type": "stream",
     "text": [
      "Mean Absolute Error 0.32021989094153164\n",
      "Mean Squared Error 0.19103989820176834\n",
      "Root Mean Squared Error 0.4370811116964085\n",
      "R Square Score 0.16098106930497424\n"
     ]
    }
   ],
   "source": [
    "print('Mean Absolute Error',metrics.mean_absolute_error(y_test,pred))\n",
    "print('Mean Squared Error',metrics.mean_squared_error(y_test,pred))\n",
    "print('Root Mean Squared Error',np.sqrt(metrics.mean_squared_error(y_test,pred)))\n",
    "print('R Square Score',metrics.r2_score(y_test,pred))"
   ]
  },
  {
   "cell_type": "markdown",
   "metadata": {},
   "source": [
    "# 7. Naive Bayes Regressor"
   ]
  },
  {
   "cell_type": "code",
   "execution_count": 60,
   "metadata": {},
   "outputs": [
    {
     "name": "stdout",
     "output_type": "stream",
     "text": [
      "Train score 0.7687296416938111\n",
      "Test Score 0.7402597402597403\n"
     ]
    }
   ],
   "source": [
    "gnb=GaussianNB()\n",
    "gnb.fit(X_train,y_train)\n",
    "pred=gnb.predict(X_test)\n",
    "print('Train score',gnb.score(X_train,y_train))\n",
    "print('Test Score',gnb.score(X_test,y_test))"
   ]
  },
  {
   "cell_type": "code",
   "execution_count": 61,
   "metadata": {},
   "outputs": [
    {
     "name": "stdout",
     "output_type": "stream",
     "text": [
      "Mean Absolute Error 0.2597402597402597\n",
      "Mean Squared Error 0.2597402597402597\n",
      "Root Mean Squared Error 0.5096471914376255\n",
      "R Square Score -0.14074074074074105\n"
     ]
    }
   ],
   "source": [
    "print('Mean Absolute Error',metrics.mean_absolute_error(y_test,pred))\n",
    "print('Mean Squared Error',metrics.mean_squared_error(y_test,pred))\n",
    "print('Root Mean Squared Error',np.sqrt(metrics.mean_squared_error(y_test,pred)))\n",
    "print('R Square Score',metrics.r2_score(y_test,pred))"
   ]
  },
  {
   "cell_type": "markdown",
   "metadata": {},
   "source": [
    "# 8. Support Vector Machine\n"
   ]
  },
  {
   "cell_type": "code",
   "execution_count": 68,
   "metadata": {},
   "outputs": [
    {
     "name": "stdout",
     "output_type": "stream",
     "text": [
      "Train score 0.2745819945641841\n",
      "Test Score 0.30247398904243616\n"
     ]
    }
   ],
   "source": [
    "from sklearn.svm import SVR\n",
    "svr=SVR()\n",
    "svr.fit(X_train,y_train)\n",
    "pred=svr.predict(X_test)\n",
    "print('Train score',svr.score(X_train,y_train))\n",
    "print('Test Score',svr.score(X_test,y_test))\n"
   ]
  },
  {
   "cell_type": "code",
   "execution_count": 69,
   "metadata": {},
   "outputs": [
    {
     "name": "stdout",
     "output_type": "stream",
     "text": [
      "Mean Absolute Error 0.2773582667631507\n",
      "Mean Squared Error 0.15882275506707894\n",
      "Root Mean Squared Error 0.3985257269826867\n",
      "R Square Score 0.30247398904243616\n"
     ]
    }
   ],
   "source": [
    "print('Mean Absolute Error',metrics.mean_absolute_error(y_test,pred))\n",
    "print('Mean Squared Error',metrics.mean_squared_error(y_test,pred))\n",
    "print('Root Mean Squared Error',np.sqrt(metrics.mean_squared_error(y_test,pred)))\n",
    "print('R Square Score',metrics.r2_score(y_test,pred))"
   ]
  },
  {
   "cell_type": "markdown",
   "metadata": {},
   "source": [
    "# Hyperparameter Tuning (SVC)\n"
   ]
  },
  {
   "cell_type": "code",
   "execution_count": 70,
   "metadata": {},
   "outputs": [
    {
     "name": "stdout",
     "output_type": "stream",
     "text": [
      "Fitting 5 folds for each of 10 candidates, totalling 50 fits\n",
      "[CV 1/5] END ....................C=1000, gamma=1, kernel=rbf; total time=   0.1s\n",
      "[CV 2/5] END ....................C=1000, gamma=1, kernel=rbf; total time=   0.0s\n",
      "[CV 3/5] END ....................C=1000, gamma=1, kernel=rbf; total time=   0.0s\n",
      "[CV 4/5] END ....................C=1000, gamma=1, kernel=rbf; total time=   0.0s\n",
      "[CV 5/5] END ....................C=1000, gamma=1, kernel=rbf; total time=   0.0s\n",
      "[CV 1/5] END ..................C=1000, gamma=0.1, kernel=rbf; total time=   0.0s\n",
      "[CV 2/5] END ..................C=1000, gamma=0.1, kernel=rbf; total time=   0.0s\n",
      "[CV 3/5] END ..................C=1000, gamma=0.1, kernel=rbf; total time=   0.1s\n",
      "[CV 4/5] END ..................C=1000, gamma=0.1, kernel=rbf; total time=   0.0s\n",
      "[CV 5/5] END ..................C=1000, gamma=0.1, kernel=rbf; total time=   0.0s\n",
      "[CV 1/5] END ..................C=100, gamma=0.01, kernel=rbf; total time=   0.1s\n",
      "[CV 2/5] END ..................C=100, gamma=0.01, kernel=rbf; total time=   0.1s\n",
      "[CV 3/5] END ..................C=100, gamma=0.01, kernel=rbf; total time=   0.0s\n",
      "[CV 4/5] END ..................C=100, gamma=0.01, kernel=rbf; total time=   0.0s\n",
      "[CV 5/5] END ..................C=100, gamma=0.01, kernel=rbf; total time=   0.0s\n",
      "[CV 1/5] END ................C=0.1, gamma=0.0001, kernel=rbf; total time=   0.0s\n",
      "[CV 2/5] END ................C=0.1, gamma=0.0001, kernel=rbf; total time=   0.0s\n",
      "[CV 3/5] END ................C=0.1, gamma=0.0001, kernel=rbf; total time=   0.1s\n",
      "[CV 4/5] END ................C=0.1, gamma=0.0001, kernel=rbf; total time=   0.1s\n",
      "[CV 5/5] END ................C=0.1, gamma=0.0001, kernel=rbf; total time=   0.0s\n",
      "[CV 1/5] END .....................C=100, gamma=1, kernel=rbf; total time=   0.0s\n",
      "[CV 2/5] END .....................C=100, gamma=1, kernel=rbf; total time=   0.0s\n",
      "[CV 3/5] END .....................C=100, gamma=1, kernel=rbf; total time=   0.0s\n",
      "[CV 4/5] END .....................C=100, gamma=1, kernel=rbf; total time=   0.0s\n",
      "[CV 5/5] END .....................C=100, gamma=1, kernel=rbf; total time=   0.1s\n",
      "[CV 1/5] END ...................C=1, gamma=0.001, kernel=rbf; total time=   0.0s\n",
      "[CV 2/5] END ...................C=1, gamma=0.001, kernel=rbf; total time=   0.0s\n",
      "[CV 3/5] END ...................C=1, gamma=0.001, kernel=rbf; total time=   0.0s\n",
      "[CV 4/5] END ...................C=1, gamma=0.001, kernel=rbf; total time=   0.0s\n",
      "[CV 5/5] END ...................C=1, gamma=0.001, kernel=rbf; total time=   0.0s\n",
      "[CV 1/5] END ...................C=0.1, gamma=0.1, kernel=rbf; total time=   0.2s\n",
      "[CV 2/5] END ...................C=0.1, gamma=0.1, kernel=rbf; total time=   0.1s\n",
      "[CV 3/5] END ...................C=0.1, gamma=0.1, kernel=rbf; total time=   0.0s\n",
      "[CV 4/5] END ...................C=0.1, gamma=0.1, kernel=rbf; total time=   0.0s\n",
      "[CV 5/5] END ...................C=0.1, gamma=0.1, kernel=rbf; total time=   0.0s\n",
      "[CV 1/5] END .....................C=1, gamma=0.1, kernel=rbf; total time=   0.0s\n",
      "[CV 2/5] END .....................C=1, gamma=0.1, kernel=rbf; total time=   0.0s\n",
      "[CV 3/5] END .....................C=1, gamma=0.1, kernel=rbf; total time=   0.0s\n",
      "[CV 4/5] END .....................C=1, gamma=0.1, kernel=rbf; total time=   0.0s\n",
      "[CV 5/5] END .....................C=1, gamma=0.1, kernel=rbf; total time=   0.1s\n",
      "[CV 1/5] END .................C=10, gamma=0.0001, kernel=rbf; total time=   0.1s\n",
      "[CV 2/5] END .................C=10, gamma=0.0001, kernel=rbf; total time=   0.0s\n",
      "[CV 3/5] END .................C=10, gamma=0.0001, kernel=rbf; total time=   0.0s\n",
      "[CV 4/5] END .................C=10, gamma=0.0001, kernel=rbf; total time=   0.0s\n",
      "[CV 5/5] END .................C=10, gamma=0.0001, kernel=rbf; total time=   0.0s\n",
      "[CV 1/5] END .................C=100, gamma=0.001, kernel=rbf; total time=   0.2s\n",
      "[CV 2/5] END .................C=100, gamma=0.001, kernel=rbf; total time=   0.2s\n",
      "[CV 3/5] END .................C=100, gamma=0.001, kernel=rbf; total time=   0.2s\n",
      "[CV 4/5] END .................C=100, gamma=0.001, kernel=rbf; total time=   0.2s\n",
      "[CV 5/5] END .................C=100, gamma=0.001, kernel=rbf; total time=   0.2s\n"
     ]
    },
    {
     "data": {
      "text/plain": [
       "RandomizedSearchCV(estimator=SVR(),\n",
       "                   param_distributions={'C': [0.1, 1, 10, 100, 1000],\n",
       "                                        'gamma': [1, 0.1, 0.01, 0.001, 0.0001],\n",
       "                                        'kernel': ['rbf']},\n",
       "                   verbose=3)"
      ]
     },
     "execution_count": 70,
     "metadata": {},
     "output_type": "execute_result"
    }
   ],
   "source": [
    "param_dict={\n",
    "    'C':[0.1,1,10,100,1000],\n",
    "    'gamma':[1,0.1,0.01,0.001,0.0001],\n",
    "    'kernel':['rbf']\n",
    "}\n",
    "rscv=RandomizedSearchCV(svr,param_dict,refit=True,verbose=3)\n",
    "rscv.fit(X_train,y_train)"
   ]
  },
  {
   "cell_type": "code",
   "execution_count": 71,
   "metadata": {},
   "outputs": [
    {
     "name": "stdout",
     "output_type": "stream",
     "text": [
      "{'kernel': 'rbf', 'gamma': 0.0001, 'C': 0.1}\n",
      "SVR(C=0.1, gamma=0.0001)\n",
      "0.18529239888685659\n"
     ]
    }
   ],
   "source": [
    "print(rscv.best_params_)\n",
    "print(rscv.best_estimator_)\n",
    "print(rscv.best_score_)"
   ]
  },
  {
   "cell_type": "markdown",
   "metadata": {},
   "source": [
    "# 9. K Nearest Neighbors Regresssor (KNN)\n"
   ]
  },
  {
   "cell_type": "code",
   "execution_count": 72,
   "metadata": {},
   "outputs": [
    {
     "name": "stdout",
     "output_type": "stream",
     "text": [
      "Train Score 0.38972990654205597\n",
      "Test Score 0.15699259259259235\n"
     ]
    }
   ],
   "source": [
    "knn=KNeighborsRegressor()\n",
    "knn.fit(X_train,y_train)\n",
    "pred=knn.predict(X_test)\n",
    "print('Train Score',knn.score(X_train,y_train))\n",
    "print('Test Score',knn.score(X_test,y_test))\n"
   ]
  },
  {
   "cell_type": "code",
   "execution_count": 73,
   "metadata": {},
   "outputs": [
    {
     "name": "stdout",
     "output_type": "stream",
     "text": [
      "Mean Absolute Error 0.3207792207792208\n",
      "Mean Squared Error 0.19194805194805195\n",
      "Root Mean Squared Error 0.43811876466096716\n",
      "R Square Score 0.15699259259259235\n"
     ]
    }
   ],
   "source": [
    "print('Mean Absolute Error',metrics.mean_absolute_error(y_test,pred))\n",
    "print('Mean Squared Error',metrics.mean_squared_error(y_test,pred))\n",
    "print('Root Mean Squared Error',np.sqrt(metrics.mean_squared_error(y_test,pred)))\n",
    "print('R Square Score',metrics.r2_score(y_test,pred))"
   ]
  },
  {
   "cell_type": "markdown",
   "metadata": {},
   "source": [
    "# K-Means Clustering"
   ]
  },
  {
   "cell_type": "code",
   "execution_count": 74,
   "metadata": {
    "scrolled": true
   },
   "outputs": [
    {
     "data": {
      "text/plain": [
       "Text(0.5, 1.0, 'Elbow Curve')"
      ]
     },
     "execution_count": 74,
     "metadata": {},
     "output_type": "execute_result"
    },
    {
     "data": {
      "image/png": "[encoded data removed]",
      "text/plain": [
       "<Figure size 432x288 with 1 Axes>"
      ]
     },
     "metadata": {
      "needs_background": "light"
     },
     "output_type": "display_data"
    }
   ],
   "source": [
    "from sklearn.cluster import KMeans\n",
    "kmns=KMeans()\n",
    "kmns.fit(X_train)\n",
    "\n",
    "#finding the optimul number of clusters\n",
    "\n",
    "num_clusters=range(2,11)\n",
    "\n",
    "wss=[]                       # Within Sum Of Square(WSS)\n",
    "\n",
    "for n in num_clusters:\n",
    "    kmns=KMeans(n_clusters=n)\n",
    "    kmns.fit(X_train)\n",
    "    wss.append(kmns.inertia_)\n",
    "    \n",
    "plt.plot(num_clusters,wss)\n",
    "plt.title('Elbow Curve')\n",
    "    "
   ]
  }
 ],
 "metadata": {
  "kernelspec": {
   "display_name": "Python 3",
   "language": "python",
   "name": "python3"
  },
  "language_info": {
   "codemirror_mode": {
    "name": "ipython",
    "version": 3
   },
   "file_extension": ".py",
   "mimetype": "text/x-python",
   "name": "python",
   "nbconvert_exporter": "python",
   "pygments_lexer": "ipython3",
   "version": "3.8.3"
  }
 },
 "nbformat": 4,
 "nbformat_minor": 4
}
